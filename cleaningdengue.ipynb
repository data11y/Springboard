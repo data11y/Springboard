{
 "cells": [
  {
   "cell_type": "code",
   "execution_count": 119,
   "metadata": {},
   "outputs": [],
   "source": [
    "import pandas as pd"
   ]
  },
  {
   "cell_type": "code",
   "execution_count": 120,
   "metadata": {},
   "outputs": [],
   "source": [
    "import numpy as np"
   ]
  },
  {
   "cell_type": "code",
   "execution_count": 123,
   "metadata": {},
   "outputs": [],
   "source": [
    "import matplotlib.pyplot as plt"
   ]
  },
  {
   "cell_type": "code",
   "execution_count": 124,
   "metadata": {},
   "outputs": [],
   "source": [
    "from sklearn.experimental import enable_iterative_imputer"
   ]
  },
  {
   "cell_type": "code",
   "execution_count": 125,
   "metadata": {},
   "outputs": [],
   "source": [
    "from sklearn.impute import IterativeImputer"
   ]
  },
  {
   "cell_type": "code",
   "execution_count": 140,
   "metadata": {},
   "outputs": [],
   "source": [
    "import math"
   ]
  },
  {
   "cell_type": "markdown",
   "metadata": {},
   "source": [
    "#### read in data"
   ]
  },
  {
   "cell_type": "code",
   "execution_count": 313,
   "metadata": {},
   "outputs": [],
   "source": [
    "df_trainf = pd.read_csv('dengue_features_train.csv',sep = ',')"
   ]
  },
  {
   "cell_type": "code",
   "execution_count": 129,
   "metadata": {
    "scrolled": true
   },
   "outputs": [
    {
     "data": {
      "text/plain": [
       "Index(['city', 'year', 'weekofyear', 'week_start_date', 'ndvi_ne', 'ndvi_nw',\n",
       "       'ndvi_se', 'ndvi_sw', 'precipitation_amt_mm', 'reanalysis_air_temp_k',\n",
       "       'reanalysis_avg_temp_k', 'reanalysis_dew_point_temp_k',\n",
       "       'reanalysis_max_air_temp_k', 'reanalysis_min_air_temp_k',\n",
       "       'reanalysis_precip_amt_kg_per_m2',\n",
       "       'reanalysis_relative_humidity_percent', 'reanalysis_sat_precip_amt_mm',\n",
       "       'reanalysis_specific_humidity_g_per_kg', 'reanalysis_tdtr_k',\n",
       "       'station_avg_temp_c', 'station_diur_temp_rng_c', 'station_max_temp_c',\n",
       "       'station_min_temp_c', 'station_precip_mm'],\n",
       "      dtype='object')"
      ]
     },
     "execution_count": 129,
     "metadata": {},
     "output_type": "execute_result"
    }
   ],
   "source": [
    "df_trainf.columns"
   ]
  },
  {
   "cell_type": "code",
   "execution_count": 130,
   "metadata": {
    "scrolled": false
   },
   "outputs": [
    {
     "data": {
      "text/plain": [
       "city                                       0\n",
       "year                                       0\n",
       "weekofyear                                 0\n",
       "week_start_date                            0\n",
       "ndvi_ne                                  194\n",
       "ndvi_nw                                   52\n",
       "ndvi_se                                   22\n",
       "ndvi_sw                                   22\n",
       "precipitation_amt_mm                      13\n",
       "reanalysis_air_temp_k                     10\n",
       "reanalysis_avg_temp_k                     10\n",
       "reanalysis_dew_point_temp_k               10\n",
       "reanalysis_max_air_temp_k                 10\n",
       "reanalysis_min_air_temp_k                 10\n",
       "reanalysis_precip_amt_kg_per_m2           10\n",
       "reanalysis_relative_humidity_percent      10\n",
       "reanalysis_sat_precip_amt_mm              13\n",
       "reanalysis_specific_humidity_g_per_kg     10\n",
       "reanalysis_tdtr_k                         10\n",
       "station_avg_temp_c                        43\n",
       "station_diur_temp_rng_c                   43\n",
       "station_max_temp_c                        20\n",
       "station_min_temp_c                        14\n",
       "station_precip_mm                         22\n",
       "dtype: int64"
      ]
     },
     "execution_count": 130,
     "metadata": {},
     "output_type": "execute_result"
    }
   ],
   "source": [
    "df_trainf.isnull().sum()"
   ]
  },
  {
   "cell_type": "markdown",
   "metadata": {},
   "source": [
    "#### Dropping city for sake of modeling"
   ]
  },
  {
   "cell_type": "code",
   "execution_count": 314,
   "metadata": {},
   "outputs": [],
   "source": [
    "dfdropped=(df_trainf.drop(columns='city')).copy()"
   ]
  },
  {
   "cell_type": "markdown",
   "metadata": {},
   "source": [
    "#### AVG_temp Converstion "
   ]
  },
  {
   "cell_type": "code",
   "execution_count": 135,
   "metadata": {},
   "outputs": [],
   "source": [
    "def celsius_to_kelvin(celsius):\n",
    "    return(celsius+273.15)"
   ]
  },
  {
   "cell_type": "code",
   "execution_count": 136,
   "metadata": {},
   "outputs": [],
   "source": [
    "def kelvin_to_celsius(kelvin):\n",
    "    return(kelvin-273.15)"
   ]
  },
  {
   "cell_type": "code",
   "execution_count": 315,
   "metadata": {
    "scrolled": false
   },
   "outputs": [
    {
     "name": "stderr",
     "output_type": "stream",
     "text": [
      "C:\\Users\\Owner\\Anaconda3\\lib\\site-packages\\ipykernel_launcher.py:5: SettingWithCopyWarning: \n",
      "A value is trying to be set on a copy of a slice from a DataFrame\n",
      "\n",
      "See the caveats in the documentation: http://pandas.pydata.org/pandas-docs/stable/user_guide/indexing.html#returning-a-view-versus-a-copy\n",
      "  \"\"\"\n"
     ]
    }
   ],
   "source": [
    "s_avg_c = dfdropped['station_avg_temp_c']\n",
    "s_avg_k = dfdropped['reanalysis_avg_temp_k']\n",
    "for idx,iter in dfdropped.iterrows():\n",
    "    if (not math.isnan(s_avg_k[idx])) & (math.isnan(s_avg_c[idx])): #if K is valid and C is not\n",
    "        s_avg_c[idx] = (kelvin_to_celsius(s_avg_k[idx]))   \n",
    "        \n",
    "    elif (not math.isnan(s_avg_c[idx])) & (math.isnan(s_avg_k[idx])): #if C is valid and K is not\n",
    "        s_avg_k[idx] = (celsius_to_kelvin(s_avg_c[idx])) \n",
    "        \n",
    "dfdropped['station_avg_temp_c'] = s_avg_c\n",
    "dfdropped['reanalysis_avg_temp_k'] = s_avg_k"
   ]
  },
  {
   "cell_type": "markdown",
   "metadata": {},
   "source": [
    "## Imputation"
   ]
  },
  {
   "cell_type": "markdown",
   "metadata": {},
   "source": [
    "### Using sklearn imputer with bayesianRidge"
   ]
  },
  {
   "cell_type": "code",
   "execution_count": 322,
   "metadata": {},
   "outputs": [],
   "source": [
    "from sklearn.linear_model import BayesianRidge"
   ]
  },
  {
   "cell_type": "code",
   "execution_count": 329,
   "metadata": {},
   "outputs": [],
   "source": [
    "imp = IterativeImputer(estimator=BayesianRidge(),max_iter=20,verbose=0)"
   ]
  },
  {
   "cell_type": "code",
   "execution_count": 330,
   "metadata": {},
   "outputs": [
    {
     "data": {
      "text/plain": [
       "IterativeImputer(add_indicator=False,\n",
       "                 estimator=BayesianRidge(alpha_1=1e-06, alpha_2=1e-06,\n",
       "                                         compute_score=False, copy_X=True,\n",
       "                                         fit_intercept=True, lambda_1=1e-06,\n",
       "                                         lambda_2=1e-06, n_iter=300,\n",
       "                                         normalize=False, tol=0.001,\n",
       "                                         verbose=False),\n",
       "                 imputation_order='ascending', initial_strategy='mean',\n",
       "                 max_iter=20, max_value=None, min_value=None,\n",
       "                 missing_values=nan, n_nearest_features=None, random_state=None,\n",
       "                 sample_posterior=False, tol=0.001, verbose=0)"
      ]
     },
     "execution_count": 330,
     "metadata": {},
     "output_type": "execute_result"
    }
   ],
   "source": [
    "dfdroppedWSD = dfdropped.drop(columns='week_start_date').copy()\n",
    "imp.fit(dfdroppedWSD)"
   ]
  },
  {
   "cell_type": "code",
   "execution_count": 331,
   "metadata": {},
   "outputs": [],
   "source": [
    "imputed_df = imp.transform(dfdroppedWSD)"
   ]
  },
  {
   "cell_type": "code",
   "execution_count": 332,
   "metadata": {},
   "outputs": [],
   "source": [
    "imputed_df = pd.DataFrame(imputed_df,columns=dfdroppedWSD.columns)"
   ]
  },
  {
   "cell_type": "code",
   "execution_count": 336,
   "metadata": {
    "scrolled": true
   },
   "outputs": [
    {
     "data": {
      "text/html": [
       "<div>\n",
       "<style scoped>\n",
       "    .dataframe tbody tr th:only-of-type {\n",
       "        vertical-align: middle;\n",
       "    }\n",
       "\n",
       "    .dataframe tbody tr th {\n",
       "        vertical-align: top;\n",
       "    }\n",
       "\n",
       "    .dataframe thead th {\n",
       "        text-align: right;\n",
       "    }\n",
       "</style>\n",
       "<table border=\"1\" class=\"dataframe\">\n",
       "  <thead>\n",
       "    <tr style=\"text-align: right;\">\n",
       "      <th></th>\n",
       "      <th>year</th>\n",
       "      <th>weekofyear</th>\n",
       "      <th>ndvi_ne</th>\n",
       "      <th>ndvi_nw</th>\n",
       "      <th>ndvi_se</th>\n",
       "      <th>ndvi_sw</th>\n",
       "      <th>precipitation_amt_mm</th>\n",
       "      <th>reanalysis_air_temp_k</th>\n",
       "      <th>reanalysis_avg_temp_k</th>\n",
       "      <th>reanalysis_dew_point_temp_k</th>\n",
       "      <th>...</th>\n",
       "      <th>reanalysis_precip_amt_kg_per_m2</th>\n",
       "      <th>reanalysis_relative_humidity_percent</th>\n",
       "      <th>reanalysis_sat_precip_amt_mm</th>\n",
       "      <th>reanalysis_specific_humidity_g_per_kg</th>\n",
       "      <th>reanalysis_tdtr_k</th>\n",
       "      <th>station_avg_temp_c</th>\n",
       "      <th>station_diur_temp_rng_c</th>\n",
       "      <th>station_max_temp_c</th>\n",
       "      <th>station_min_temp_c</th>\n",
       "      <th>station_precip_mm</th>\n",
       "    </tr>\n",
       "  </thead>\n",
       "  <tbody>\n",
       "    <tr>\n",
       "      <td>0</td>\n",
       "      <td>1990.0</td>\n",
       "      <td>18.0</td>\n",
       "      <td>0.122600</td>\n",
       "      <td>0.103725</td>\n",
       "      <td>0.198483</td>\n",
       "      <td>0.177617</td>\n",
       "      <td>12.42</td>\n",
       "      <td>297.572857</td>\n",
       "      <td>297.742857</td>\n",
       "      <td>292.414286</td>\n",
       "      <td>...</td>\n",
       "      <td>32.00</td>\n",
       "      <td>73.365714</td>\n",
       "      <td>12.42</td>\n",
       "      <td>14.012857</td>\n",
       "      <td>2.628571</td>\n",
       "      <td>25.442857</td>\n",
       "      <td>6.900000</td>\n",
       "      <td>29.4</td>\n",
       "      <td>20.0</td>\n",
       "      <td>16.0</td>\n",
       "    </tr>\n",
       "    <tr>\n",
       "      <td>1</td>\n",
       "      <td>1990.0</td>\n",
       "      <td>19.0</td>\n",
       "      <td>0.169900</td>\n",
       "      <td>0.142175</td>\n",
       "      <td>0.162357</td>\n",
       "      <td>0.155486</td>\n",
       "      <td>22.82</td>\n",
       "      <td>298.211429</td>\n",
       "      <td>298.442857</td>\n",
       "      <td>293.951429</td>\n",
       "      <td>...</td>\n",
       "      <td>17.94</td>\n",
       "      <td>77.368571</td>\n",
       "      <td>22.82</td>\n",
       "      <td>15.372857</td>\n",
       "      <td>2.371429</td>\n",
       "      <td>26.714286</td>\n",
       "      <td>6.371429</td>\n",
       "      <td>31.7</td>\n",
       "      <td>22.2</td>\n",
       "      <td>8.6</td>\n",
       "    </tr>\n",
       "    <tr>\n",
       "      <td>2</td>\n",
       "      <td>1990.0</td>\n",
       "      <td>20.0</td>\n",
       "      <td>0.032250</td>\n",
       "      <td>0.172967</td>\n",
       "      <td>0.157200</td>\n",
       "      <td>0.170843</td>\n",
       "      <td>34.54</td>\n",
       "      <td>298.781429</td>\n",
       "      <td>298.878571</td>\n",
       "      <td>295.434286</td>\n",
       "      <td>...</td>\n",
       "      <td>26.10</td>\n",
       "      <td>82.052857</td>\n",
       "      <td>34.54</td>\n",
       "      <td>16.848571</td>\n",
       "      <td>2.300000</td>\n",
       "      <td>26.714286</td>\n",
       "      <td>6.485714</td>\n",
       "      <td>32.2</td>\n",
       "      <td>22.8</td>\n",
       "      <td>41.4</td>\n",
       "    </tr>\n",
       "    <tr>\n",
       "      <td>3</td>\n",
       "      <td>1990.0</td>\n",
       "      <td>21.0</td>\n",
       "      <td>0.128633</td>\n",
       "      <td>0.245067</td>\n",
       "      <td>0.227557</td>\n",
       "      <td>0.235886</td>\n",
       "      <td>15.36</td>\n",
       "      <td>298.987143</td>\n",
       "      <td>299.228571</td>\n",
       "      <td>295.310000</td>\n",
       "      <td>...</td>\n",
       "      <td>13.90</td>\n",
       "      <td>80.337143</td>\n",
       "      <td>15.36</td>\n",
       "      <td>16.672857</td>\n",
       "      <td>2.428571</td>\n",
       "      <td>27.471429</td>\n",
       "      <td>6.771429</td>\n",
       "      <td>33.3</td>\n",
       "      <td>23.3</td>\n",
       "      <td>4.0</td>\n",
       "    </tr>\n",
       "    <tr>\n",
       "      <td>4</td>\n",
       "      <td>1990.0</td>\n",
       "      <td>22.0</td>\n",
       "      <td>0.196200</td>\n",
       "      <td>0.262200</td>\n",
       "      <td>0.251200</td>\n",
       "      <td>0.247340</td>\n",
       "      <td>7.52</td>\n",
       "      <td>299.518571</td>\n",
       "      <td>299.664286</td>\n",
       "      <td>295.821429</td>\n",
       "      <td>...</td>\n",
       "      <td>12.20</td>\n",
       "      <td>80.460000</td>\n",
       "      <td>7.52</td>\n",
       "      <td>17.210000</td>\n",
       "      <td>3.014286</td>\n",
       "      <td>28.942857</td>\n",
       "      <td>9.371429</td>\n",
       "      <td>35.0</td>\n",
       "      <td>23.9</td>\n",
       "      <td>5.8</td>\n",
       "    </tr>\n",
       "    <tr>\n",
       "      <td>5</td>\n",
       "      <td>1990.0</td>\n",
       "      <td>23.0</td>\n",
       "      <td>0.170587</td>\n",
       "      <td>0.174850</td>\n",
       "      <td>0.254314</td>\n",
       "      <td>0.181743</td>\n",
       "      <td>9.58</td>\n",
       "      <td>299.630000</td>\n",
       "      <td>299.764286</td>\n",
       "      <td>295.851429</td>\n",
       "      <td>...</td>\n",
       "      <td>26.49</td>\n",
       "      <td>79.891429</td>\n",
       "      <td>9.58</td>\n",
       "      <td>17.212857</td>\n",
       "      <td>2.100000</td>\n",
       "      <td>28.114286</td>\n",
       "      <td>6.942857</td>\n",
       "      <td>34.4</td>\n",
       "      <td>23.9</td>\n",
       "      <td>39.1</td>\n",
       "    </tr>\n",
       "    <tr>\n",
       "      <td>6</td>\n",
       "      <td>1990.0</td>\n",
       "      <td>24.0</td>\n",
       "      <td>0.112900</td>\n",
       "      <td>0.092800</td>\n",
       "      <td>0.205071</td>\n",
       "      <td>0.210271</td>\n",
       "      <td>3.48</td>\n",
       "      <td>299.207143</td>\n",
       "      <td>299.221429</td>\n",
       "      <td>295.865714</td>\n",
       "      <td>...</td>\n",
       "      <td>38.60</td>\n",
       "      <td>82.000000</td>\n",
       "      <td>3.48</td>\n",
       "      <td>17.234286</td>\n",
       "      <td>2.042857</td>\n",
       "      <td>27.414286</td>\n",
       "      <td>6.771429</td>\n",
       "      <td>32.2</td>\n",
       "      <td>23.3</td>\n",
       "      <td>29.7</td>\n",
       "    </tr>\n",
       "    <tr>\n",
       "      <td>7</td>\n",
       "      <td>1990.0</td>\n",
       "      <td>25.0</td>\n",
       "      <td>0.072500</td>\n",
       "      <td>0.072500</td>\n",
       "      <td>0.151471</td>\n",
       "      <td>0.133029</td>\n",
       "      <td>151.12</td>\n",
       "      <td>299.591429</td>\n",
       "      <td>299.528571</td>\n",
       "      <td>296.531429</td>\n",
       "      <td>...</td>\n",
       "      <td>30.00</td>\n",
       "      <td>83.375714</td>\n",
       "      <td>151.12</td>\n",
       "      <td>17.977143</td>\n",
       "      <td>1.571429</td>\n",
       "      <td>28.371429</td>\n",
       "      <td>7.685714</td>\n",
       "      <td>33.9</td>\n",
       "      <td>22.8</td>\n",
       "      <td>21.1</td>\n",
       "    </tr>\n",
       "    <tr>\n",
       "      <td>8</td>\n",
       "      <td>1990.0</td>\n",
       "      <td>26.0</td>\n",
       "      <td>0.102450</td>\n",
       "      <td>0.146175</td>\n",
       "      <td>0.125571</td>\n",
       "      <td>0.123600</td>\n",
       "      <td>19.32</td>\n",
       "      <td>299.578571</td>\n",
       "      <td>299.557143</td>\n",
       "      <td>296.378571</td>\n",
       "      <td>...</td>\n",
       "      <td>37.51</td>\n",
       "      <td>82.768571</td>\n",
       "      <td>19.32</td>\n",
       "      <td>17.790000</td>\n",
       "      <td>1.885714</td>\n",
       "      <td>28.328571</td>\n",
       "      <td>7.385714</td>\n",
       "      <td>33.9</td>\n",
       "      <td>22.8</td>\n",
       "      <td>21.1</td>\n",
       "    </tr>\n",
       "    <tr>\n",
       "      <td>9</td>\n",
       "      <td>1990.0</td>\n",
       "      <td>27.0</td>\n",
       "      <td>0.108732</td>\n",
       "      <td>0.121550</td>\n",
       "      <td>0.160683</td>\n",
       "      <td>0.202567</td>\n",
       "      <td>14.41</td>\n",
       "      <td>300.154286</td>\n",
       "      <td>300.278571</td>\n",
       "      <td>296.651429</td>\n",
       "      <td>...</td>\n",
       "      <td>28.40</td>\n",
       "      <td>81.281429</td>\n",
       "      <td>14.41</td>\n",
       "      <td>18.071429</td>\n",
       "      <td>2.014286</td>\n",
       "      <td>28.328571</td>\n",
       "      <td>6.514286</td>\n",
       "      <td>33.9</td>\n",
       "      <td>24.4</td>\n",
       "      <td>1.1</td>\n",
       "    </tr>\n",
       "  </tbody>\n",
       "</table>\n",
       "<p>10 rows × 22 columns</p>\n",
       "</div>"
      ],
      "text/plain": [
       "     year  weekofyear   ndvi_ne   ndvi_nw   ndvi_se   ndvi_sw  \\\n",
       "0  1990.0        18.0  0.122600  0.103725  0.198483  0.177617   \n",
       "1  1990.0        19.0  0.169900  0.142175  0.162357  0.155486   \n",
       "2  1990.0        20.0  0.032250  0.172967  0.157200  0.170843   \n",
       "3  1990.0        21.0  0.128633  0.245067  0.227557  0.235886   \n",
       "4  1990.0        22.0  0.196200  0.262200  0.251200  0.247340   \n",
       "5  1990.0        23.0  0.170587  0.174850  0.254314  0.181743   \n",
       "6  1990.0        24.0  0.112900  0.092800  0.205071  0.210271   \n",
       "7  1990.0        25.0  0.072500  0.072500  0.151471  0.133029   \n",
       "8  1990.0        26.0  0.102450  0.146175  0.125571  0.123600   \n",
       "9  1990.0        27.0  0.108732  0.121550  0.160683  0.202567   \n",
       "\n",
       "   precipitation_amt_mm  reanalysis_air_temp_k  reanalysis_avg_temp_k  \\\n",
       "0                 12.42             297.572857             297.742857   \n",
       "1                 22.82             298.211429             298.442857   \n",
       "2                 34.54             298.781429             298.878571   \n",
       "3                 15.36             298.987143             299.228571   \n",
       "4                  7.52             299.518571             299.664286   \n",
       "5                  9.58             299.630000             299.764286   \n",
       "6                  3.48             299.207143             299.221429   \n",
       "7                151.12             299.591429             299.528571   \n",
       "8                 19.32             299.578571             299.557143   \n",
       "9                 14.41             300.154286             300.278571   \n",
       "\n",
       "   reanalysis_dew_point_temp_k  ...  reanalysis_precip_amt_kg_per_m2  \\\n",
       "0                   292.414286  ...                            32.00   \n",
       "1                   293.951429  ...                            17.94   \n",
       "2                   295.434286  ...                            26.10   \n",
       "3                   295.310000  ...                            13.90   \n",
       "4                   295.821429  ...                            12.20   \n",
       "5                   295.851429  ...                            26.49   \n",
       "6                   295.865714  ...                            38.60   \n",
       "7                   296.531429  ...                            30.00   \n",
       "8                   296.378571  ...                            37.51   \n",
       "9                   296.651429  ...                            28.40   \n",
       "\n",
       "   reanalysis_relative_humidity_percent  reanalysis_sat_precip_amt_mm  \\\n",
       "0                             73.365714                         12.42   \n",
       "1                             77.368571                         22.82   \n",
       "2                             82.052857                         34.54   \n",
       "3                             80.337143                         15.36   \n",
       "4                             80.460000                          7.52   \n",
       "5                             79.891429                          9.58   \n",
       "6                             82.000000                          3.48   \n",
       "7                             83.375714                        151.12   \n",
       "8                             82.768571                         19.32   \n",
       "9                             81.281429                         14.41   \n",
       "\n",
       "   reanalysis_specific_humidity_g_per_kg  reanalysis_tdtr_k  \\\n",
       "0                              14.012857           2.628571   \n",
       "1                              15.372857           2.371429   \n",
       "2                              16.848571           2.300000   \n",
       "3                              16.672857           2.428571   \n",
       "4                              17.210000           3.014286   \n",
       "5                              17.212857           2.100000   \n",
       "6                              17.234286           2.042857   \n",
       "7                              17.977143           1.571429   \n",
       "8                              17.790000           1.885714   \n",
       "9                              18.071429           2.014286   \n",
       "\n",
       "   station_avg_temp_c  station_diur_temp_rng_c  station_max_temp_c  \\\n",
       "0           25.442857                 6.900000                29.4   \n",
       "1           26.714286                 6.371429                31.7   \n",
       "2           26.714286                 6.485714                32.2   \n",
       "3           27.471429                 6.771429                33.3   \n",
       "4           28.942857                 9.371429                35.0   \n",
       "5           28.114286                 6.942857                34.4   \n",
       "6           27.414286                 6.771429                32.2   \n",
       "7           28.371429                 7.685714                33.9   \n",
       "8           28.328571                 7.385714                33.9   \n",
       "9           28.328571                 6.514286                33.9   \n",
       "\n",
       "   station_min_temp_c  station_precip_mm  \n",
       "0                20.0               16.0  \n",
       "1                22.2                8.6  \n",
       "2                22.8               41.4  \n",
       "3                23.3                4.0  \n",
       "4                23.9                5.8  \n",
       "5                23.9               39.1  \n",
       "6                23.3               29.7  \n",
       "7                22.8               21.1  \n",
       "8                22.8               21.1  \n",
       "9                24.4                1.1  \n",
       "\n",
       "[10 rows x 22 columns]"
      ]
     },
     "execution_count": 336,
     "metadata": {},
     "output_type": "execute_result"
    }
   ],
   "source": [
    "imputed_df.head(10)"
   ]
  },
  {
   "cell_type": "code",
   "execution_count": 337,
   "metadata": {},
   "outputs": [],
   "source": [
    "imputed_df['city'] = df_trainf['city']"
   ]
  },
  {
   "cell_type": "code",
   "execution_count": 338,
   "metadata": {},
   "outputs": [],
   "source": [
    "imputed_df['week_start_date'] = df_trainf['week_start_date']"
   ]
  }
 ],
 "metadata": {
  "kernelspec": {
   "display_name": "Python 3",
   "language": "python",
   "name": "python3"
  },
  "language_info": {
   "codemirror_mode": {
    "name": "ipython",
    "version": 3
   },
   "file_extension": ".py",
   "mimetype": "text/x-python",
   "name": "python",
   "nbconvert_exporter": "python",
   "pygments_lexer": "ipython3",
   "version": "3.7.4"
  }
 },
 "nbformat": 4,
 "nbformat_minor": 2
}
