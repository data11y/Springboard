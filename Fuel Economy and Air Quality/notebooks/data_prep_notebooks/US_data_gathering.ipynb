{
 "cells": [
  {
   "cell_type": "code",
   "execution_count": 7,
   "metadata": {},
   "outputs": [],
   "source": [
    "import pandas as pd\n",
    "import glob\n",
    "import numpy as np\n",
    "import os\n",
    "data_dir = \"../../data/raw_data/\""
   ]
  },
  {
   "cell_type": "markdown",
   "metadata": {},
   "source": [
    "## US fuel economy data"
   ]
  },
  {
   "cell_type": "code",
   "execution_count": 29,
   "metadata": {},
   "outputs": [],
   "source": [
    "us_fuel_data = \"USA/fuel/US_fuel_econ_84-17.csv\"\n",
    "df_us_fuel = pd.read_csv(os.path.join(data_dir, us_fuel_data), usecols=\\\n",
    "                         [1, 2, 3, 4, 5, 6, 10, 11, 12, 13, 14, 15, 17, 18, 24, 25, 35, 36])\n",
    "df_us_fuel = df_us_fuel[df_us_fuel[\"Year\"] >= 2000].reset_index(drop=True) # only looking at data from 2000"
   ]
  },
  {
   "cell_type": "code",
   "execution_count": 30,
   "metadata": {},
   "outputs": [],
   "source": [
    "df_us_fuel.columns = [c.lower().split(' (')[0].replace(' ', '_') for c in df_us_fuel.columns]\n",
    "df_us_fuel.rename(columns= {'class':'veh_class'}, inplace=True)"
   ]
  },
  {
   "cell_type": "code",
   "execution_count": 47,
   "metadata": {},
   "outputs": [],
   "source": [
    "df_us_fuel['highway_mpg'] = [unrounded if unrounded > 0.0 else rounded for rounded, unrounded in df_us_fuel[df_us_fuel.columns[df_us_fuel.columns.str.contains('highway')]].values]\n",
    "df_us_fuel.drop(columns= 'unrounded_highway_mpg', inplace=True)"
   ]
  },
  {
   "cell_type": "code",
   "execution_count": 49,
   "metadata": {},
   "outputs": [],
   "source": [
    "df_us_fuel['city_mpg'] = [unrounded if unrounded > 0.0 else rounded for rounded, unrounded in df_us_fuel[df_us_fuel.columns[df_us_fuel.columns.str.contains('city')]].values]\n",
    "df_us_fuel.drop(columns= 'unrounded_city_mpg', inplace=True)"
   ]
  },
  {
   "cell_type": "code",
   "execution_count": 55,
   "metadata": {},
   "outputs": [],
   "source": [
    "df_us_fuel['combined_mpg'] = [unrounded if unrounded > 0.0 else rounded for rounded, unrounded in df_us_fuel[df_us_fuel.columns[df_us_fuel.columns.str.contains('combined')]].values]\n",
    "df_us_fuel.drop(columns= 'unrounded_combined_mpg', inplace=True)"
   ]
  },
  {
   "cell_type": "code",
   "execution_count": 51,
   "metadata": {},
   "outputs": [
    {
     "data": {
      "text/plain": [
       "Regular Gasoline     11729\n",
       "Premium Gasoline      7981\n",
       "Diesel                 179\n",
       "Electricity            123\n",
       "Midgrade Gasoline       77\n",
       "Natural Gas             47\n",
       "Name: fuel_type_1, dtype: int64"
      ]
     },
     "execution_count": 51,
     "metadata": {},
     "output_type": "execute_result"
    }
   ],
   "source": [
    "df_us_fuel.fuel_type_1.value_counts() # I will drop the vehicles with primarily electric engines (Fuel type 1)"
   ]
  },
  {
   "cell_type": "code",
   "execution_count": 52,
   "metadata": {
    "scrolled": false
   },
   "outputs": [],
   "source": [
    "df_us_fuel = df_us_fuel.drop(np.where(df_us_fuel.fuel_type_1=='Electricity')[0]).reset_index(drop=True)"
   ]
  },
  {
   "cell_type": "code",
   "execution_count": 53,
   "metadata": {},
   "outputs": [],
   "source": [
    "df_us_fuel.turbocharger = np.where(df_us_fuel.turbocharger == 'T', 1, 0)\n",
    "df_us_fuel.supercharger = np.where(df_us_fuel.supercharger == 'S', 1, 0)"
   ]
  },
  {
   "cell_type": "code",
   "execution_count": 56,
   "metadata": {},
   "outputs": [
    {
     "data": {
      "text/plain": [
       "year                   0\n",
       "make                   0\n",
       "model                  0\n",
       "veh_class              0\n",
       "drive                  1\n",
       "transmission           0\n",
       "engine_cylinders       0\n",
       "engine_displacement    0\n",
       "turbocharger           0\n",
       "supercharger           0\n",
       "fuel_type              0\n",
       "fuel_type_1            0\n",
       "city_mpg               0\n",
       "highway_mpg            0\n",
       "combined_mpg           0\n",
       "dtype: int64"
      ]
     },
     "execution_count": 56,
     "metadata": {},
     "output_type": "execute_result"
    }
   ],
   "source": [
    "df_us_fuel.isna().sum()"
   ]
  },
  {
   "cell_type": "code",
   "execution_count": 57,
   "metadata": {},
   "outputs": [
    {
     "data": {
      "text/html": [
       "<div>\n",
       "<style scoped>\n",
       "    .dataframe tbody tr th:only-of-type {\n",
       "        vertical-align: middle;\n",
       "    }\n",
       "\n",
       "    .dataframe tbody tr th {\n",
       "        vertical-align: top;\n",
       "    }\n",
       "\n",
       "    .dataframe thead th {\n",
       "        text-align: right;\n",
       "    }\n",
       "</style>\n",
       "<table border=\"1\" class=\"dataframe\">\n",
       "  <thead>\n",
       "    <tr style=\"text-align: right;\">\n",
       "      <th></th>\n",
       "      <th>year</th>\n",
       "      <th>make</th>\n",
       "      <th>model</th>\n",
       "      <th>veh_class</th>\n",
       "      <th>drive</th>\n",
       "      <th>transmission</th>\n",
       "      <th>engine_cylinders</th>\n",
       "      <th>engine_displacement</th>\n",
       "      <th>turbocharger</th>\n",
       "      <th>supercharger</th>\n",
       "      <th>fuel_type</th>\n",
       "      <th>fuel_type_1</th>\n",
       "      <th>city_mpg</th>\n",
       "      <th>highway_mpg</th>\n",
       "      <th>combined_mpg</th>\n",
       "    </tr>\n",
       "  </thead>\n",
       "  <tbody>\n",
       "    <tr>\n",
       "      <th>2306</th>\n",
       "      <td>2002</td>\n",
       "      <td>Lotus</td>\n",
       "      <td>Esprit V8</td>\n",
       "      <td>Two Seaters</td>\n",
       "      <td>NaN</td>\n",
       "      <td>Manual 5-Speed</td>\n",
       "      <td>8.0</td>\n",
       "      <td>3.5</td>\n",
       "      <td>1</td>\n",
       "      <td>0</td>\n",
       "      <td>Premium</td>\n",
       "      <td>Premium Gasoline</td>\n",
       "      <td>14.0</td>\n",
       "      <td>21.0</td>\n",
       "      <td>16.0</td>\n",
       "    </tr>\n",
       "  </tbody>\n",
       "</table>\n",
       "</div>"
      ],
      "text/plain": [
       "      year   make      model    veh_class drive    transmission  \\\n",
       "2306  2002  Lotus  Esprit V8  Two Seaters   NaN  Manual 5-Speed   \n",
       "\n",
       "      engine_cylinders  engine_displacement  turbocharger  supercharger  \\\n",
       "2306               8.0                  3.5             1             0   \n",
       "\n",
       "     fuel_type       fuel_type_1  city_mpg  highway_mpg  combined_mpg  \n",
       "2306   Premium  Premium Gasoline      14.0         21.0          16.0  "
      ]
     },
     "metadata": {},
     "output_type": "display_data"
    }
   ],
   "source": [
    "display(df_us_fuel[df_us_fuel['drive'].isna()])\n",
    "df_us_fuel['drive'].iat[2306] = 'Rear-Wheel Drive'"
   ]
  },
  {
   "cell_type": "code",
   "execution_count": 59,
   "metadata": {},
   "outputs": [],
   "source": [
    "df_us_fuel.to_csv('../../data/transformed_data/USA/df_us_fuel.csv', index=False)"
   ]
  },
  {
   "cell_type": "markdown",
   "metadata": {},
   "source": [
    "## US air quality data"
   ]
  },
  {
   "cell_type": "markdown",
   "metadata": {},
   "source": [
    "**The major air pollutants most commonly measured are PM2.5, PM10, NO2, SO2, CO, and O3**\n",
    "* `PM2.5`: Airborne Particulate Matter measuring 2.5 micrometers or smaller\n",
    "* `PM10`: Airborne Particulate Matter measuring < 10 micrometers > 2.5 micrometers\n",
    "* `NO2`: Nitrogen Dioxide\n",
    "* `SO2`: Sulphur Dioxide\n",
    "* `CO`: Carbon Monoxide\n",
    "* `O3`: Ozone\n"
   ]
  },
  {
   "cell_type": "markdown",
   "metadata": {},
   "source": [
    "### PM10 and PM2.5 data that is missing from the main dataset"
   ]
  },
  {
   "cell_type": "markdown",
   "metadata": {},
   "source": [
    "#### PM10"
   ]
  },
  {
   "cell_type": "markdown",
   "metadata": {},
   "source": [
    "pm10_glob = glob.glob(data_dir + \"/USA/air/daily*.csv\")\n",
    "df_pm10 = pd.concat((pd.read_csv(f, parse_dates=[2]) for f in pm10_glob))\n",
    "\n",
    "#__This will not run until the files are extracted from the zip archive__"
   ]
  },
  {
   "cell_type": "markdown",
   "metadata": {},
   "source": [
    "df_pm10.columns = df_pm10.columns.str.lower()\n",
    "df_pm10.columns = df_pm10.columns.str.replace(\" \", \"_\")\n",
    "df_pm10 = df_pm10.set_index('date_local')\n",
    "df_pm10['year'] = df_pm10.index.year"
   ]
  },
  {
   "cell_type": "markdown",
   "metadata": {},
   "source": [
    "df_pm10['parameter_name'] = np.where(df_pm10['sample_duration']=='24 HOUR', 'pm10_24h', 'pm10')\n",
    "df_pm10_pivot = df_pm10.pivot_table(values='arithmetic_mean', columns='parameter_name', index = 'year').rename_axis(\"\", axis=1)\n",
    "df_pm10_pivot.rename(columns={'pm10':'pm10_mean', 'pm10_24h': 'pm10_24h_mean'}, inplace=True)\n",
    "\n",
    "df_pm10_pivot['pm10_units'] = 'μg/m3'\n",
    "df_pm10_pivot['pm10_24h_units'] = 'μg/m3'"
   ]
  },
  {
   "cell_type": "markdown",
   "metadata": {},
   "source": [
    "#### PM2.5"
   ]
  },
  {
   "cell_type": "markdown",
   "metadata": {},
   "source": [
    "pm25_glob = glob.glob(data_dir + '/USA/air/daily_88101*.csv')\n",
    "df_pm25 = pd.concat((pd.read_csv(f) for f in pm25_glob))\n",
    "\n",
    "#__This will not run until the files are extracted from the zip archive__"
   ]
  },
  {
   "cell_type": "markdown",
   "metadata": {},
   "source": [
    "df_pm25 = df_pm25[df_pm25.columns[8:]]\n",
    "df_pm25.drop(columns=['Pollutant Standard', 'Event Type', 'Observation Count', 'Observation Percent'], inplace=True)"
   ]
  },
  {
   "cell_type": "markdown",
   "metadata": {},
   "source": [
    "df_pm25 = df_pm25[df_pm25.columns[:5]]\n",
    "df_pm25.index = pd.DatetimeIndex(df_pm25['Date Local'])\n",
    "df_pm25.drop(columns='Date Local', inplace=True)"
   ]
  },
  {
   "cell_type": "markdown",
   "metadata": {},
   "source": [
    "df_pm25.columns = df_pm25.columns.str.lower()\n",
    "df_pm25.columns = df_pm25.columns.str.replace(\" \", \"_\")\n",
    "df_pm25['year'] = df_pm25.index.year"
   ]
  },
  {
   "cell_type": "markdown",
   "metadata": {},
   "source": [
    "df_pm25 = df_pm25[df_pm25.sample_duration != '24-HR BLK AVG']\n",
    "df_pm25['parameter_name'] = np.where(df_pm25['sample_duration']=='24 HOUR', 'pm2.5_24h', 'pm2.5')"
   ]
  },
  {
   "cell_type": "markdown",
   "metadata": {},
   "source": [
    "df_pm25_pivot = df_pm25.pivot_table(values='arithmetic_mean', columns='parameter_name', index = 'year').rename_axis(\"\", axis=1)\n",
    "df_pm25_pivot.rename(columns={'pm2.5':'pm2.5_mean', 'pm2.5_24h': 'pm2.5_24h_mean'}, inplace=True)\n",
    "\n",
    "df_pm25_pivot['pm2.5_units'] = 'μg/m3'\n",
    "df_pm25_pivot['pm2.5_24h_units'] = 'μg/m3'"
   ]
  },
  {
   "cell_type": "markdown",
   "metadata": {},
   "source": [
    "#### 2017"
   ]
  },
  {
   "cell_type": "code",
   "execution_count": 109,
   "metadata": {},
   "outputs": [],
   "source": [
    "df_us_air2017 = pd.read_csv(data_dir + \"/USA/air/annual_conc_by_monitor_2017.csv\", usecols=[8, 9, 13, 14, 27])\n",
    "df_us_air2017.columns = [c.lower().replace(' ','_') for c in df_us_air2017.columns]"
   ]
  },
  {
   "cell_type": "code",
   "execution_count": 110,
   "metadata": {},
   "outputs": [],
   "source": [
    "# The EPA provides granular details on PM pollutants, generalizing to \"PM2.5\"\n",
    "df_us_air2017_pm25mask = np.where(df_us_air2017.parameter_name.str.contains('PM\\s?2.5'), True, False)\n",
    "df_us_air2017.loc[df_us_air2017_pm25mask, 'parameter_name'] = \"PM2.5\"\n",
    "\n",
    "# \"PM10\"\n",
    "df_us_air2017_pm10mask = np.where(df_us_air2017.parameter_name.str.contains(\"PM\\s?10\"), True, False)\n",
    "df_us_air2017.loc[df_us_air2017_pm10mask, 'parameter_name'] = 'PM10'\n",
    "\n",
    "# NO2\n",
    "df_us_air2017['parameter_name'] = df_us_air2017.parameter_name.replace('Nitrogen dioxide (NO2)', \"NO2\")\n",
    "\n",
    "# SO2\n",
    "df_us_air2017['parameter_name'] = df_us_air2017.parameter_name.replace('Sulfur dioxide', \"SO2\")\n",
    "\n",
    "# CO\n",
    "df_us_air2017['parameter_name'] = df_us_air2017.parameter_name.replace('Carbon monoxide', \"CO\")\n",
    "\n",
    "# Ozone\n",
    "df_us_air2017['parameter_name'] = df_us_air2017.parameter_name.replace('Ozone', \"O3\")"
   ]
  },
  {
   "cell_type": "code",
   "execution_count": 111,
   "metadata": {},
   "outputs": [],
   "source": [
    "df_us_air2017 = df_us_air2017[np.isin(df_us_air2017.parameter_name, [\"PM2.5\", 'PM10', \"NO2\", \"SO2\", \"CO\", \"O3\"])]\n",
    "# Using these pollutants as they are the most commmonly reported and observed\n",
    "\n",
    "df_us_air2017 = df_us_air2017[(df_us_air2017.sample_duration == '1 HOUR') | \\\n",
    "                        (df_us_air2017.sample_duration == '24 HOUR')].reset_index(drop=True)"
   ]
  },
  {
   "cell_type": "code",
   "execution_count": 112,
   "metadata": {},
   "outputs": [],
   "source": [
    "us_air2017_unit_mapper = {'Micrograms/cubic meter (LC)': 'μg/m3', \n",
    "                          'Parts per million':'ppm',\n",
    "                          'Parts per billion':'ppb',\n",
    "                          'Micrograms/cubic meter (25 C)': 'μg/m3', \n",
    "                          'Nanograms/cubic meter (LC)': 'ng/m3',\n",
    "                          'Nanograms/cubic meter (25 C)':'ng/m3'}"
   ]
  },
  {
   "cell_type": "code",
   "execution_count": 113,
   "metadata": {},
   "outputs": [],
   "source": [
    "df_us_air2017['units_of_measure'] = df_us_air2017.units_of_measure.map(us_air2017_unit_mapper)\n",
    "df_us_air2017 = df_us_air2017.drop(np.where(df_us_air2017.units_of_measure == 'ng/m3')[0]).reset_index(drop=True)"
   ]
  },
  {
   "cell_type": "code",
   "execution_count": 114,
   "metadata": {},
   "outputs": [],
   "source": [
    "# Flattening to remove the sample duration feature\n",
    "\n",
    "df_us_air2017['parameter_name'] = [p + '_24H' if s == '24 HOUR' else p for p, s in df_us_air2017[['parameter_name', 'sample_duration']].values]\n",
    "del df_us_air2017['sample_duration']"
   ]
  },
  {
   "cell_type": "code",
   "execution_count": 115,
   "metadata": {},
   "outputs": [],
   "source": [
    "us_air2017_paramunits_dict = {param:units for param,units in df_us_air2017.groupby(['parameter_name', 'units_of_measure']).mean().index.values}\n",
    "# us_air2017_paramunits_dict"
   ]
  },
  {
   "cell_type": "code",
   "execution_count": 116,
   "metadata": {},
   "outputs": [
    {
     "data": {
      "text/html": [
       "<div>\n",
       "<style scoped>\n",
       "    .dataframe tbody tr th:only-of-type {\n",
       "        vertical-align: middle;\n",
       "    }\n",
       "\n",
       "    .dataframe tbody tr th {\n",
       "        vertical-align: top;\n",
       "    }\n",
       "\n",
       "    .dataframe thead th {\n",
       "        text-align: right;\n",
       "    }\n",
       "</style>\n",
       "<table border=\"1\" class=\"dataframe\">\n",
       "  <thead>\n",
       "    <tr style=\"text-align: right;\">\n",
       "      <th></th>\n",
       "      <th>CO</th>\n",
       "      <th>NO2</th>\n",
       "      <th>O3</th>\n",
       "      <th>PM10</th>\n",
       "      <th>PM10_24H</th>\n",
       "      <th>PM2.5</th>\n",
       "      <th>PM2.5_24H</th>\n",
       "      <th>SO2</th>\n",
       "    </tr>\n",
       "    <tr>\n",
       "      <th></th>\n",
       "      <th></th>\n",
       "      <th></th>\n",
       "      <th></th>\n",
       "      <th></th>\n",
       "      <th></th>\n",
       "      <th></th>\n",
       "      <th></th>\n",
       "      <th></th>\n",
       "    </tr>\n",
       "  </thead>\n",
       "  <tbody>\n",
       "    <tr>\n",
       "      <th>2017</th>\n",
       "      <td>0.290675</td>\n",
       "      <td>12.672481</td>\n",
       "      <td>0.047358</td>\n",
       "      <td>22.240733</td>\n",
       "      <td>15.376554</td>\n",
       "      <td>7.429756</td>\n",
       "      <td>1.854176</td>\n",
       "      <td>3.005513</td>\n",
       "    </tr>\n",
       "  </tbody>\n",
       "</table>\n",
       "</div>"
      ],
      "text/plain": [
       "            CO        NO2        O3       PM10   PM10_24H     PM2.5  \\\n",
       "                                                                      \n",
       "2017  0.290675  12.672481  0.047358  22.240733  15.376554  7.429756   \n",
       "\n",
       "      PM2.5_24H       SO2  \n",
       "                           \n",
       "2017   1.854176  3.005513  "
      ]
     },
     "execution_count": 116,
     "metadata": {},
     "output_type": "execute_result"
    }
   ],
   "source": [
    "pivoted_us_air_2017 = df_us_air2017.pivot_table(values='arithmetic_mean', columns='parameter_name', index='year').rename_axis('').rename_axis(\"\",axis=1)\n",
    "pivoted_us_air_2017"
   ]
  },
  {
   "cell_type": "code",
   "execution_count": 117,
   "metadata": {},
   "outputs": [
    {
     "data": {
      "text/html": [
       "<div>\n",
       "<style scoped>\n",
       "    .dataframe tbody tr th:only-of-type {\n",
       "        vertical-align: middle;\n",
       "    }\n",
       "\n",
       "    .dataframe tbody tr th {\n",
       "        vertical-align: top;\n",
       "    }\n",
       "\n",
       "    .dataframe thead th {\n",
       "        text-align: right;\n",
       "    }\n",
       "</style>\n",
       "<table border=\"1\" class=\"dataframe\">\n",
       "  <thead>\n",
       "    <tr style=\"text-align: right;\">\n",
       "      <th></th>\n",
       "      <th>co_mean</th>\n",
       "      <th>no2_mean</th>\n",
       "      <th>o3_mean</th>\n",
       "      <th>pm10_mean</th>\n",
       "      <th>pm10_24h_mean</th>\n",
       "      <th>pm2.5_mean</th>\n",
       "      <th>pm2.5_24h_mean</th>\n",
       "      <th>so2_mean</th>\n",
       "      <th>co_units</th>\n",
       "      <th>no2_units</th>\n",
       "      <th>o3_units</th>\n",
       "      <th>pm10_units</th>\n",
       "      <th>pm10_24h_units</th>\n",
       "      <th>pm2.5_units</th>\n",
       "      <th>pm2.5_24h_units</th>\n",
       "      <th>so2_units</th>\n",
       "    </tr>\n",
       "    <tr>\n",
       "      <th></th>\n",
       "      <th></th>\n",
       "      <th></th>\n",
       "      <th></th>\n",
       "      <th></th>\n",
       "      <th></th>\n",
       "      <th></th>\n",
       "      <th></th>\n",
       "      <th></th>\n",
       "      <th></th>\n",
       "      <th></th>\n",
       "      <th></th>\n",
       "      <th></th>\n",
       "      <th></th>\n",
       "      <th></th>\n",
       "      <th></th>\n",
       "      <th></th>\n",
       "    </tr>\n",
       "  </thead>\n",
       "  <tbody>\n",
       "    <tr>\n",
       "      <th>2017</th>\n",
       "      <td>0.290675</td>\n",
       "      <td>12.672481</td>\n",
       "      <td>0.047358</td>\n",
       "      <td>22.240733</td>\n",
       "      <td>15.376554</td>\n",
       "      <td>7.429756</td>\n",
       "      <td>1.854176</td>\n",
       "      <td>3.005513</td>\n",
       "      <td>ppm</td>\n",
       "      <td>ppb</td>\n",
       "      <td>ppm</td>\n",
       "      <td>μg/m3</td>\n",
       "      <td>μg/m3</td>\n",
       "      <td>μg/m3</td>\n",
       "      <td>μg/m3</td>\n",
       "      <td>ppb</td>\n",
       "    </tr>\n",
       "  </tbody>\n",
       "</table>\n",
       "</div>"
      ],
      "text/plain": [
       "       co_mean   no2_mean   o3_mean  pm10_mean  pm10_24h_mean  pm2.5_mean  \\\n",
       "                                                                            \n",
       "2017  0.290675  12.672481  0.047358  22.240733      15.376554    7.429756   \n",
       "\n",
       "      pm2.5_24h_mean  so2_mean co_units no2_units o3_units pm10_units  \\\n",
       "                                                                        \n",
       "2017        1.854176  3.005513      ppm       ppb      ppm      μg/m3   \n",
       "\n",
       "     pm10_24h_units pm2.5_units pm2.5_24h_units so2_units  \n",
       "                                                           \n",
       "2017          μg/m3       μg/m3           μg/m3       ppb  "
      ]
     },
     "execution_count": 117,
     "metadata": {},
     "output_type": "execute_result"
    }
   ],
   "source": [
    "for c in pivoted_us_air_2017.columns.values:\n",
    "    pivoted_us_air_2017[c + '_units'] = us_air2017_paramunits_dict[c]\n",
    "    \n",
    "pivoted_us_air_2017.columns = pivoted_us_air_2017.columns.str.lower()\n",
    "pivoted_us_air_2017.columns = [c + '_mean' if c in pivoted_us_air_2017.columns[~pivoted_us_air_2017.columns.str.contains('_units')] else c for c in  pivoted_us_air_2017.columns]\n",
    "pivoted_us_air_2017"
   ]
  },
  {
   "cell_type": "markdown",
   "metadata": {},
   "source": [
    "#### 2000 - 2016"
   ]
  },
  {
   "cell_type": "code",
   "execution_count": 171,
   "metadata": {},
   "outputs": [],
   "source": [
    "df_us_air2 = pd.read_csv(data_dir + \"/USA/air/pollution_us_2000_2016.csv\", usecols=[0, 1, 2, 4, 5, 7, 8, 10, 11],\\\n",
    "                         parse_dates=[0])\n",
    "df_us_air2.columns = [c.lower().replace(' ','_') for c in df_us_air2.columns]\n",
    "df_us_air2['year'] = df_us_air2.date_local.dt.year"
   ]
  },
  {
   "cell_type": "code",
   "execution_count": 174,
   "metadata": {},
   "outputs": [],
   "source": [
    "del df_us_air2['date_local']"
   ]
  },
  {
   "cell_type": "code",
   "execution_count": 177,
   "metadata": {},
   "outputs": [],
   "source": [
    "df_us_air2 = df_us_air2.replace(['Parts per billion', 'Parts per million'], ['ppb', 'ppm'])\n",
    "usair2_units = df_us_air2[df_us_air2.columns[df_us_air2.columns.str.contains('_units')]].iloc[0]\n",
    "# usair2_units"
   ]
  },
  {
   "cell_type": "code",
   "execution_count": 284,
   "metadata": {},
   "outputs": [],
   "source": [
    "df_usa2_grouped = df_us_air2.groupby('year').mean()\n",
    "for c in usair2_units.index: df_usa2_grouped[c] = usair2_units[c]\n",
    "df_usa2_grouped.sort_index(axis=1, inplace=True)"
   ]
  },
  {
   "cell_type": "code",
   "execution_count": 290,
   "metadata": {},
   "outputs": [],
   "source": [
    "df_us_air_table = df_usa2_grouped.join([df_pm10_pivot, df_pm25_pivot]).append(pivoted_us_air_2017)\n",
    "df_us_air_table.to_csv('../../data/transformed_data/USA/df_us_air.csv', index_label = 'year')"
   ]
  }
 ],
 "metadata": {
  "kernelspec": {
   "display_name": "Python 3",
   "language": "python",
   "name": "python3"
  },
  "language_info": {
   "codemirror_mode": {
    "name": "ipython",
    "version": 3
   },
   "file_extension": ".py",
   "mimetype": "text/x-python",
   "name": "python",
   "nbconvert_exporter": "python",
   "pygments_lexer": "ipython3",
   "version": "3.8.3"
  }
 },
 "nbformat": 4,
 "nbformat_minor": 4
}
