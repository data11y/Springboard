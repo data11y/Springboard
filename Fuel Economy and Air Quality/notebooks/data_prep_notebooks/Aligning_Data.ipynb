{
 "cells": [
  {
   "cell_type": "code",
   "execution_count": 1,
   "metadata": {},
   "outputs": [],
   "source": [
    "import pandas as pd\n",
    "import numpy as np\n",
    "import os"
   ]
  },
  {
   "cell_type": "code",
   "execution_count": 2,
   "metadata": {},
   "outputs": [],
   "source": [
    "data_dir = \"../../data/transformed_data/\""
   ]
  },
  {
   "cell_type": "code",
   "execution_count": 3,
   "metadata": {},
   "outputs": [],
   "source": [
    "# USA\n",
    "df_us_air = pd.read_csv(os.path.join(data_dir, \"USA/df_us_air.csv\"), index_col=[0])"
   ]
  },
  {
   "cell_type": "code",
   "execution_count": 4,
   "metadata": {},
   "outputs": [],
   "source": [
    "# Canada\n",
    "df_ca_air = pd.read_csv(os.path.join(data_dir, 'Canada/df_ca_air.csv'), index_col=[0])"
   ]
  },
  {
   "cell_type": "code",
   "execution_count": 5,
   "metadata": {},
   "outputs": [],
   "source": [
    "# UK\n",
    "df_uk_air = pd.read_csv(os.path.join(data_dir, 'UK/df_uk_air.csv'), index_col=[0])"
   ]
  },
  {
   "cell_type": "code",
   "execution_count": 6,
   "metadata": {},
   "outputs": [
    {
     "data": {
      "text/plain": [
       "{'pm25_mean', 'pm25_units'}"
      ]
     },
     "execution_count": 6,
     "metadata": {},
     "output_type": "execute_result"
    }
   ],
   "source": [
    "set(df_ca_air.columns).difference(df_uk_air.columns)"
   ]
  },
  {
   "cell_type": "code",
   "execution_count": 7,
   "metadata": {},
   "outputs": [
    {
     "data": {
      "text/plain": [
       "{'pm2.5_mean', 'pm2.5_units'}"
      ]
     },
     "execution_count": 7,
     "metadata": {},
     "output_type": "execute_result"
    }
   ],
   "source": [
    "set(df_uk_air.columns).difference(df_ca_air.columns)"
   ]
  },
  {
   "cell_type": "code",
   "execution_count": 8,
   "metadata": {},
   "outputs": [],
   "source": [
    "df_ca_air.rename(columns={'pm25_mean':'pm2.5_mean', 'pm25_units':'pm2.5_units'}, inplace=True)"
   ]
  },
  {
   "cell_type": "code",
   "execution_count": 9,
   "metadata": {},
   "outputs": [],
   "source": [
    "df_ca_air.replace('ug/m3', 'μg/m3', inplace=True)\n",
    "df_uk_air.replace('ug/m3', 'μg/m3', inplace=True)\n",
    "df_us_air.replace('ug/m3', 'μg/m3', inplace=True)"
   ]
  },
  {
   "cell_type": "code",
   "execution_count": 10,
   "metadata": {},
   "outputs": [],
   "source": [
    "# CO\n",
    "# UK: mg/m3, US: ppm, CA: ppm - done\n",
    "\n",
    "# Ozone\n",
    "# UK: μg/m3, US: ppm, CA: ppb\n",
    "\n",
    "# NO2\n",
    "# UK: μg/m3, US: ppb, CA: ppb\n",
    "\n",
    "# SO2\n",
    "# UK: μg/m3, US: ppb, CA: ppb\n",
    "\n",
    "# CO, O3, NO2, SO2 need to align units"
   ]
  },
  {
   "cell_type": "code",
   "execution_count": 11,
   "metadata": {},
   "outputs": [],
   "source": [
    "\"\"\"\n",
    "Formulas provided by the Center for Hazardous Substance Research at the EPA, pdf:\n",
    "https://cfpub.epa.gov/ncer_abstracts/index.cfm/fuseaction/display.files/fileid/14285#:~:text=as%20grams%20per%201%2C000%20liters,which%20is%20about%201%20ppb.\n",
    "\n",
    "\"\"\"\n",
    "molecular_weight_co = 28.01 # g/mol\n",
    "molecular_weight_o3 = 48 # g/mol\n",
    "molecular_weight_no2 = 46.0055 # g/mol\n",
    "molecular_weight_so2 = 64.066 # g/mol\n",
    "\n",
    "# (µ,m)g/m3 to pp(b,m)\n",
    "gm3_to_pp = lambda gm3, weight: (gm3 * 24.25)/(weight)\n",
    "\n",
    "# pp(b,m) to (µ,m)g/m3\n",
    "pp_to_gm3 = lambda pp, weight: (0.0409 * pp * weight)"
   ]
  },
  {
   "cell_type": "code",
   "execution_count": 17,
   "metadata": {},
   "outputs": [
    {
     "data": {
      "text/html": [
       "<div>\n",
       "<style scoped>\n",
       "    .dataframe tbody tr th:only-of-type {\n",
       "        vertical-align: middle;\n",
       "    }\n",
       "\n",
       "    .dataframe tbody tr th {\n",
       "        vertical-align: top;\n",
       "    }\n",
       "\n",
       "    .dataframe thead th {\n",
       "        text-align: right;\n",
       "    }\n",
       "</style>\n",
       "<table border=\"1\" class=\"dataframe\">\n",
       "  <thead>\n",
       "    <tr style=\"text-align: right;\">\n",
       "      <th></th>\n",
       "      <th>co_mean</th>\n",
       "      <th>co_units</th>\n",
       "      <th>o3_mean</th>\n",
       "      <th>o3_units</th>\n",
       "      <th>no2_mean</th>\n",
       "      <th>no2_units</th>\n",
       "      <th>so2_mean</th>\n",
       "      <th>so2_units</th>\n",
       "      <th>pm2.5_mean</th>\n",
       "      <th>pm2.5_units</th>\n",
       "      <th>pm10_mean</th>\n",
       "      <th>pm10_units</th>\n",
       "    </tr>\n",
       "    <tr>\n",
       "      <th>year</th>\n",
       "      <th></th>\n",
       "      <th></th>\n",
       "      <th></th>\n",
       "      <th></th>\n",
       "      <th></th>\n",
       "      <th></th>\n",
       "      <th></th>\n",
       "      <th></th>\n",
       "      <th></th>\n",
       "      <th></th>\n",
       "      <th></th>\n",
       "      <th></th>\n",
       "    </tr>\n",
       "  </thead>\n",
       "  <tbody>\n",
       "    <tr>\n",
       "      <th>2000</th>\n",
       "      <td>0.464702</td>\n",
       "      <td>ppm</td>\n",
       "      <td>14.981322</td>\n",
       "      <td>ppb</td>\n",
       "      <td>13.304986</td>\n",
       "      <td>ppb</td>\n",
       "      <td>3.918739</td>\n",
       "      <td>ppb</td>\n",
       "      <td>5.977311</td>\n",
       "      <td>μg/m3</td>\n",
       "      <td>13.731744</td>\n",
       "      <td>μg/m3</td>\n",
       "    </tr>\n",
       "    <tr>\n",
       "      <th>2001</th>\n",
       "      <td>0.429632</td>\n",
       "      <td>ppm</td>\n",
       "      <td>16.440080</td>\n",
       "      <td>ppb</td>\n",
       "      <td>12.443451</td>\n",
       "      <td>ppb</td>\n",
       "      <td>2.541681</td>\n",
       "      <td>ppb</td>\n",
       "      <td>5.384297</td>\n",
       "      <td>μg/m3</td>\n",
       "      <td>13.258304</td>\n",
       "      <td>μg/m3</td>\n",
       "    </tr>\n",
       "    <tr>\n",
       "      <th>2002</th>\n",
       "      <td>0.431412</td>\n",
       "      <td>ppm</td>\n",
       "      <td>16.304480</td>\n",
       "      <td>ppb</td>\n",
       "      <td>12.235973</td>\n",
       "      <td>ppb</td>\n",
       "      <td>2.544733</td>\n",
       "      <td>ppb</td>\n",
       "      <td>5.973789</td>\n",
       "      <td>μg/m3</td>\n",
       "      <td>14.189306</td>\n",
       "      <td>μg/m3</td>\n",
       "    </tr>\n",
       "    <tr>\n",
       "      <th>2003</th>\n",
       "      <td>0.421084</td>\n",
       "      <td>ppm</td>\n",
       "      <td>17.127153</td>\n",
       "      <td>ppb</td>\n",
       "      <td>11.975094</td>\n",
       "      <td>ppb</td>\n",
       "      <td>3.047193</td>\n",
       "      <td>ppb</td>\n",
       "      <td>6.284330</td>\n",
       "      <td>μg/m3</td>\n",
       "      <td>14.939431</td>\n",
       "      <td>μg/m3</td>\n",
       "    </tr>\n",
       "    <tr>\n",
       "      <th>2004</th>\n",
       "      <td>0.424777</td>\n",
       "      <td>ppm</td>\n",
       "      <td>16.083696</td>\n",
       "      <td>ppb</td>\n",
       "      <td>11.233853</td>\n",
       "      <td>ppb</td>\n",
       "      <td>2.629271</td>\n",
       "      <td>ppb</td>\n",
       "      <td>6.001286</td>\n",
       "      <td>μg/m3</td>\n",
       "      <td>14.737286</td>\n",
       "      <td>μg/m3</td>\n",
       "    </tr>\n",
       "    <tr>\n",
       "      <th>2005</th>\n",
       "      <td>0.406889</td>\n",
       "      <td>ppm</td>\n",
       "      <td>16.510797</td>\n",
       "      <td>ppb</td>\n",
       "      <td>10.522745</td>\n",
       "      <td>ppb</td>\n",
       "      <td>2.055812</td>\n",
       "      <td>ppb</td>\n",
       "      <td>5.332327</td>\n",
       "      <td>μg/m3</td>\n",
       "      <td>14.966064</td>\n",
       "      <td>μg/m3</td>\n",
       "    </tr>\n",
       "    <tr>\n",
       "      <th>2006</th>\n",
       "      <td>0.377837</td>\n",
       "      <td>ppm</td>\n",
       "      <td>19.322605</td>\n",
       "      <td>ppb</td>\n",
       "      <td>10.263046</td>\n",
       "      <td>ppb</td>\n",
       "      <td>2.506084</td>\n",
       "      <td>ppb</td>\n",
       "      <td>5.217301</td>\n",
       "      <td>μg/m3</td>\n",
       "      <td>14.629019</td>\n",
       "      <td>μg/m3</td>\n",
       "    </tr>\n",
       "    <tr>\n",
       "      <th>2007</th>\n",
       "      <td>0.303902</td>\n",
       "      <td>ppm</td>\n",
       "      <td>17.649332</td>\n",
       "      <td>ppb</td>\n",
       "      <td>10.073323</td>\n",
       "      <td>ppb</td>\n",
       "      <td>2.526878</td>\n",
       "      <td>ppb</td>\n",
       "      <td>4.654884</td>\n",
       "      <td>μg/m3</td>\n",
       "      <td>13.111787</td>\n",
       "      <td>μg/m3</td>\n",
       "    </tr>\n",
       "    <tr>\n",
       "      <th>2008</th>\n",
       "      <td>0.276882</td>\n",
       "      <td>ppm</td>\n",
       "      <td>18.562693</td>\n",
       "      <td>ppb</td>\n",
       "      <td>9.387899</td>\n",
       "      <td>ppb</td>\n",
       "      <td>3.091262</td>\n",
       "      <td>ppb</td>\n",
       "      <td>4.804525</td>\n",
       "      <td>μg/m3</td>\n",
       "      <td>12.941735</td>\n",
       "      <td>μg/m3</td>\n",
       "    </tr>\n",
       "    <tr>\n",
       "      <th>2009</th>\n",
       "      <td>0.263017</td>\n",
       "      <td>ppm</td>\n",
       "      <td>19.131056</td>\n",
       "      <td>ppb</td>\n",
       "      <td>9.418803</td>\n",
       "      <td>ppb</td>\n",
       "      <td>2.716913</td>\n",
       "      <td>ppb</td>\n",
       "      <td>5.523193</td>\n",
       "      <td>μg/m3</td>\n",
       "      <td>13.223317</td>\n",
       "      <td>μg/m3</td>\n",
       "    </tr>\n",
       "    <tr>\n",
       "      <th>2010</th>\n",
       "      <td>0.250294</td>\n",
       "      <td>ppm</td>\n",
       "      <td>19.058657</td>\n",
       "      <td>ppb</td>\n",
       "      <td>8.299768</td>\n",
       "      <td>ppb</td>\n",
       "      <td>1.872111</td>\n",
       "      <td>ppb</td>\n",
       "      <td>5.668423</td>\n",
       "      <td>μg/m3</td>\n",
       "      <td>13.650185</td>\n",
       "      <td>μg/m3</td>\n",
       "    </tr>\n",
       "    <tr>\n",
       "      <th>2011</th>\n",
       "      <td>0.224834</td>\n",
       "      <td>ppm</td>\n",
       "      <td>19.592575</td>\n",
       "      <td>ppb</td>\n",
       "      <td>8.418642</td>\n",
       "      <td>ppb</td>\n",
       "      <td>1.733533</td>\n",
       "      <td>ppb</td>\n",
       "      <td>5.033673</td>\n",
       "      <td>μg/m3</td>\n",
       "      <td>12.836721</td>\n",
       "      <td>μg/m3</td>\n",
       "    </tr>\n",
       "    <tr>\n",
       "      <th>2012</th>\n",
       "      <td>0.234895</td>\n",
       "      <td>ppm</td>\n",
       "      <td>20.037036</td>\n",
       "      <td>ppb</td>\n",
       "      <td>8.695165</td>\n",
       "      <td>ppb</td>\n",
       "      <td>1.813415</td>\n",
       "      <td>ppb</td>\n",
       "      <td>5.369380</td>\n",
       "      <td>μg/m3</td>\n",
       "      <td>13.743371</td>\n",
       "      <td>μg/m3</td>\n",
       "    </tr>\n",
       "    <tr>\n",
       "      <th>2013</th>\n",
       "      <td>0.216358</td>\n",
       "      <td>ppm</td>\n",
       "      <td>17.708828</td>\n",
       "      <td>ppb</td>\n",
       "      <td>8.584034</td>\n",
       "      <td>ppb</td>\n",
       "      <td>1.654491</td>\n",
       "      <td>ppb</td>\n",
       "      <td>6.306280</td>\n",
       "      <td>μg/m3</td>\n",
       "      <td>14.115432</td>\n",
       "      <td>μg/m3</td>\n",
       "    </tr>\n",
       "    <tr>\n",
       "      <th>2014</th>\n",
       "      <td>0.233473</td>\n",
       "      <td>ppm</td>\n",
       "      <td>19.138756</td>\n",
       "      <td>ppb</td>\n",
       "      <td>8.462984</td>\n",
       "      <td>ppb</td>\n",
       "      <td>1.535604</td>\n",
       "      <td>ppb</td>\n",
       "      <td>6.571821</td>\n",
       "      <td>μg/m3</td>\n",
       "      <td>13.844308</td>\n",
       "      <td>μg/m3</td>\n",
       "    </tr>\n",
       "    <tr>\n",
       "      <th>2015</th>\n",
       "      <td>0.270312</td>\n",
       "      <td>ppm</td>\n",
       "      <td>18.338286</td>\n",
       "      <td>ppb</td>\n",
       "      <td>8.550144</td>\n",
       "      <td>ppb</td>\n",
       "      <td>1.140585</td>\n",
       "      <td>ppb</td>\n",
       "      <td>6.818240</td>\n",
       "      <td>μg/m3</td>\n",
       "      <td>13.820502</td>\n",
       "      <td>μg/m3</td>\n",
       "    </tr>\n",
       "    <tr>\n",
       "      <th>2016</th>\n",
       "      <td>0.239722</td>\n",
       "      <td>ppm</td>\n",
       "      <td>18.544489</td>\n",
       "      <td>ppb</td>\n",
       "      <td>7.607228</td>\n",
       "      <td>ppb</td>\n",
       "      <td>1.307314</td>\n",
       "      <td>ppb</td>\n",
       "      <td>5.528227</td>\n",
       "      <td>μg/m3</td>\n",
       "      <td>12.028543</td>\n",
       "      <td>μg/m3</td>\n",
       "    </tr>\n",
       "    <tr>\n",
       "      <th>2017</th>\n",
       "      <td>0.215048</td>\n",
       "      <td>ppm</td>\n",
       "      <td>20.459438</td>\n",
       "      <td>ppb</td>\n",
       "      <td>8.333871</td>\n",
       "      <td>ppb</td>\n",
       "      <td>1.439992</td>\n",
       "      <td>ppb</td>\n",
       "      <td>8.005949</td>\n",
       "      <td>μg/m3</td>\n",
       "      <td>16.698163</td>\n",
       "      <td>μg/m3</td>\n",
       "    </tr>\n",
       "  </tbody>\n",
       "</table>\n",
       "</div>"
      ],
      "text/plain": [
       "       co_mean co_units    o3_mean o3_units   no2_mean no2_units  so2_mean  \\\n",
       "year                                                                         \n",
       "2000  0.464702      ppm  14.981322      ppb  13.304986       ppb  3.918739   \n",
       "2001  0.429632      ppm  16.440080      ppb  12.443451       ppb  2.541681   \n",
       "2002  0.431412      ppm  16.304480      ppb  12.235973       ppb  2.544733   \n",
       "2003  0.421084      ppm  17.127153      ppb  11.975094       ppb  3.047193   \n",
       "2004  0.424777      ppm  16.083696      ppb  11.233853       ppb  2.629271   \n",
       "2005  0.406889      ppm  16.510797      ppb  10.522745       ppb  2.055812   \n",
       "2006  0.377837      ppm  19.322605      ppb  10.263046       ppb  2.506084   \n",
       "2007  0.303902      ppm  17.649332      ppb  10.073323       ppb  2.526878   \n",
       "2008  0.276882      ppm  18.562693      ppb   9.387899       ppb  3.091262   \n",
       "2009  0.263017      ppm  19.131056      ppb   9.418803       ppb  2.716913   \n",
       "2010  0.250294      ppm  19.058657      ppb   8.299768       ppb  1.872111   \n",
       "2011  0.224834      ppm  19.592575      ppb   8.418642       ppb  1.733533   \n",
       "2012  0.234895      ppm  20.037036      ppb   8.695165       ppb  1.813415   \n",
       "2013  0.216358      ppm  17.708828      ppb   8.584034       ppb  1.654491   \n",
       "2014  0.233473      ppm  19.138756      ppb   8.462984       ppb  1.535604   \n",
       "2015  0.270312      ppm  18.338286      ppb   8.550144       ppb  1.140585   \n",
       "2016  0.239722      ppm  18.544489      ppb   7.607228       ppb  1.307314   \n",
       "2017  0.215048      ppm  20.459438      ppb   8.333871       ppb  1.439992   \n",
       "\n",
       "     so2_units  pm2.5_mean pm2.5_units  pm10_mean pm10_units  \n",
       "year                                                          \n",
       "2000       ppb    5.977311       μg/m3  13.731744      μg/m3  \n",
       "2001       ppb    5.384297       μg/m3  13.258304      μg/m3  \n",
       "2002       ppb    5.973789       μg/m3  14.189306      μg/m3  \n",
       "2003       ppb    6.284330       μg/m3  14.939431      μg/m3  \n",
       "2004       ppb    6.001286       μg/m3  14.737286      μg/m3  \n",
       "2005       ppb    5.332327       μg/m3  14.966064      μg/m3  \n",
       "2006       ppb    5.217301       μg/m3  14.629019      μg/m3  \n",
       "2007       ppb    4.654884       μg/m3  13.111787      μg/m3  \n",
       "2008       ppb    4.804525       μg/m3  12.941735      μg/m3  \n",
       "2009       ppb    5.523193       μg/m3  13.223317      μg/m3  \n",
       "2010       ppb    5.668423       μg/m3  13.650185      μg/m3  \n",
       "2011       ppb    5.033673       μg/m3  12.836721      μg/m3  \n",
       "2012       ppb    5.369380       μg/m3  13.743371      μg/m3  \n",
       "2013       ppb    6.306280       μg/m3  14.115432      μg/m3  \n",
       "2014       ppb    6.571821       μg/m3  13.844308      μg/m3  \n",
       "2015       ppb    6.818240       μg/m3  13.820502      μg/m3  \n",
       "2016       ppb    5.528227       μg/m3  12.028543      μg/m3  \n",
       "2017       ppb    8.005949       μg/m3  16.698163      μg/m3  "
      ]
     },
     "execution_count": 17,
     "metadata": {},
     "output_type": "execute_result"
    }
   ],
   "source": [
    "df_ca_air"
   ]
  },
  {
   "cell_type": "code",
   "execution_count": 12,
   "metadata": {},
   "outputs": [],
   "source": [
    "# CO\n",
    "df_uk_air['co_mean'] = df_uk_air['co_mean'] * 1000\n",
    "df_uk_air['co_units'] = 'μg/m3'\n",
    "\n",
    "df_us_air['co_mean'] = pp_to_gm3(df_us_air['co_mean'] * 1000, molecular_weight_co)\n",
    "df_us_air['co_units'] = 'μg/m3'\n",
    "\n",
    "df_ca_air['co_mean'] = pp_to_gm3(df_ca_air['co_mean'] * 1000, molecular_weight_co)\n",
    "df_ca_air['co_units'] = 'μg/m3'"
   ]
  },
  {
   "cell_type": "code",
   "execution_count": 13,
   "metadata": {},
   "outputs": [],
   "source": [
    "# O3\n",
    "df_us_air['o3_mean'] = df_us_air['o3_mean'] * 1000\n",
    "df_us_air['o3_mean'] = pp_to_gm3(df_us_air['o3_mean'], molecular_weight_o3)\n",
    "df_us_air['o3_units'] = 'μg/m3'\n",
    "\n",
    "df_ca_air['o3_mean'] = pp_to_gm3(df_ca_air['o3_mean'], molecular_weight_o3)\n",
    "df_ca_air['o3_units'] = 'μg/m3'"
   ]
  },
  {
   "cell_type": "code",
   "execution_count": 14,
   "metadata": {},
   "outputs": [],
   "source": [
    "# NO2\n",
    "df_us_air['no2_mean'] = pp_to_gm3(df_us_air['no2_mean'], molecular_weight_no2)\n",
    "df_us_air['no2_units'] = 'μg/m3'\n",
    "\n",
    "df_ca_air['no2_mean'] = pp_to_gm3(df_ca_air['no2_mean'], molecular_weight_no2)\n",
    "df_ca_air['no2_units'] = 'μg/m3'"
   ]
  },
  {
   "cell_type": "code",
   "execution_count": 15,
   "metadata": {},
   "outputs": [],
   "source": [
    "# SO2\n",
    "df_us_air['so2_mean'] = pp_to_gm3(df_us_air['so2_mean'], molecular_weight_so2)\n",
    "df_us_air['so2_units'] = 'μg/m3'\n",
    "\n",
    "df_ca_air['so2_mean'] = pp_to_gm3(df_ca_air['so2_mean'], molecular_weight_so2)\n",
    "df_ca_air['so2_units'] = 'μg/m3'"
   ]
  },
  {
   "cell_type": "code",
   "execution_count": 16,
   "metadata": {},
   "outputs": [],
   "source": [
    "# PM2.5\n",
    "df_us_air['pm2.5_mean'] = df_us_air[['pm2.5_mean', 'pm2.5_24h_mean']].mean(axis=1)\n",
    "del df_us_air['pm2.5_24h_mean']\n",
    "del df_us_air['pm2.5_24h_units']\n",
    "df_us_air['pm2.5_units'].fillna('μg/m3', inplace=True)"
   ]
  },
  {
   "cell_type": "code",
   "execution_count": 17,
   "metadata": {},
   "outputs": [],
   "source": [
    "# PM10\n",
    "del df_us_air['pm10_24h_mean']\n",
    "del df_us_air['pm10_24h_units']\n",
    "\n",
    "# particulate matter and other pollutants used to construct other values were based on hourly measurements,\n",
    "# dropping the 24 hour values"
   ]
  },
  {
   "cell_type": "code",
   "execution_count": 18,
   "metadata": {},
   "outputs": [],
   "source": [
    "df_us_air.to_csv(os.path.join(data_dir, \"USA/us_air_aligned_units.csv\"))\n",
    "df_uk_air.to_csv(os.path.join(data_dir, \"UK/uk_air_aligned_units.csv\"))\n",
    "df_ca_air.to_csv(os.path.join(data_dir, \"Canada/ca_air_aligned_units.csv\"))"
   ]
  },
  {
   "cell_type": "markdown",
   "metadata": {},
   "source": [
    "## Fuel data"
   ]
  },
  {
   "cell_type": "code",
   "execution_count": 19,
   "metadata": {},
   "outputs": [],
   "source": [
    "# USA\n",
    "df_us_fuel = pd.read_csv(os.path.join(data_dir, \"USA/df_us_fuel.csv\"), index_col=[0])"
   ]
  },
  {
   "cell_type": "code",
   "execution_count": 20,
   "metadata": {},
   "outputs": [],
   "source": [
    "# Canada\n",
    "df_ca_fuel = pd.read_csv(os.path.join(data_dir, 'Canada/df_CA_fuel.csv'), index_col=[0])\n",
    "df_ca_fuel.rename(columns={'engine_size(l)':'engine_size'}, inplace=True)"
   ]
  },
  {
   "cell_type": "code",
   "execution_count": 21,
   "metadata": {},
   "outputs": [],
   "source": [
    "# UK\n",
    "df_uk_fuel = pd.read_csv(os.path.join(data_dir, 'UK/df_uk_fuel.csv'), index_col=[-1])"
   ]
  },
  {
   "cell_type": "markdown",
   "metadata": {},
   "source": [
    "Transmission cleaning"
   ]
  },
  {
   "cell_type": "code",
   "execution_count": 22,
   "metadata": {},
   "outputs": [],
   "source": [
    "df_us_fuel.transmission = df_us_fuel.transmission.str.replace(r\"Auto\\s?\\(\", \"Automatic (\")\n",
    "df_us_fuel.transmission = df_us_fuel.transmission.str.replace(r\"Manual\\(\", \"Manual (\")\n",
    "\n",
    "first, second = df_us_fuel.transmission.str.split(n=1, expand=True)[0], df_us_fuel.transmission.str.split(n=1, expand=True)[1]"
   ]
  },
  {
   "cell_type": "code",
   "execution_count": 23,
   "metadata": {},
   "outputs": [],
   "source": [
    "us_var_trans_idx = np.where(df_us_fuel.transmission.str.contains('[vV]'))[0]\n",
    "first.iloc[us_var_trans_idx] = 'CVT'\n",
    "second = second.str.strip(\"(,)\")\n",
    "third = second.str.findall(\"([\\d]+)\")\n",
    "third = [1 if len(i)==0 else int(i[0]) for i in third]\n",
    "df_us_fuel['num_gears'] = third\n",
    "df_us_fuel['transmission'] = first\n",
    "df_us_fuel.rename(columns={'engine_displacement':'engine_size',\\\n",
    "                           'veh_class':'vehicle_class',\\\n",
    "                          'engine_cylinders':'cylinders'}, inplace=True)"
   ]
  },
  {
   "cell_type": "code",
   "execution_count": 24,
   "metadata": {},
   "outputs": [
    {
     "name": "stderr",
     "output_type": "stream",
     "text": [
      "C:\\Users\\Marko\\anaconda3\\lib\\site-packages\\pandas\\core\\indexing.py:671: SettingWithCopyWarning: \n",
      "A value is trying to be set on a copy of a slice from a DataFrame\n",
      "\n",
      "See the caveats in the documentation: https://pandas.pydata.org/pandas-docs/stable/user_guide/indexing.html#returning-a-view-versus-a-copy\n",
      "  self._setitem_with_indexer(indexer, value)\n"
     ]
    }
   ],
   "source": [
    "df_ca_fuel['transmission'].iloc[np.where(df_ca_fuel.transmission.str.contains('Auto'))[0]] = 'Automatic'\n",
    "df_ca_fuel.transmission.replace('Continuously variable', 'CVT', inplace=True)"
   ]
  },
  {
   "cell_type": "code",
   "execution_count": 25,
   "metadata": {},
   "outputs": [],
   "source": [
    "# x2 refers to high and low gear ratios, features we dont have for the other countries\n",
    "df_uk_fuel.transmission = df_uk_fuel.transmission.str.replace('x2',\"\")   \n",
    "\n",
    "df_uk_fuel.transmission = df_uk_fuel.transmission.str.replace('SAT', 'Semi-Auto')\n",
    "\n",
    "# the type of drivetrain isnt something we have for all the countries\n",
    "df_uk_fuel.transmission = df_uk_fuel.transmission.str.replace('AWD', '')\n",
    "\n",
    "df_uk_fuel = df_uk_fuel[df_uk_fuel.transmission != 'Electric'] # 2003 Toyota Prius\n",
    "df_uk_fuel = df_uk_fuel[df_uk_fuel.transmission !='Hybrid'] # 2002 Toyota Prius\n",
    "\n",
    "# NE stands for normal economy gears, 10 rows\n",
    "df_uk_fuel.transmission = df_uk_fuel.transmission.str.replace('NE', '')\n",
    "\n",
    "# L stands for low gear ratio, all 2000 Saab cars, 12 rows\n",
    "df_uk_fuel.transmission = df_uk_fuel.transmission.str.replace('L', '')\n",
    "\n",
    "# F for front wheel drive, the type of drivetrain isnt something we have for all the countries\n",
    "df_uk_fuel.transmission = df_uk_fuel.transmission.str.replace('^F','')\n",
    "\n",
    "# /s for close ratio\n",
    "df_uk_fuel.transmission = df_uk_fuel.transmission.str.replace('/s','')\n",
    "\n",
    "# Q = 4 wheel drive\n",
    "df_uk_fuel.transmission = df_uk_fuel.transmission.str.replace('Q', '')\n",
    "df_uk_fuel.transmission = df_uk_fuel.transmission.str.replace(\" \", '')\n",
    "df_uk_fuel.transmission = df_uk_fuel.transmission.str.replace(\"/\", '')\n",
    "df_uk_fuel.transmission = df_uk_fuel.transmission.str.replace('\\-$','')\n",
    "df_uk_fuel.transmission = df_uk_fuel.transmission.str.replace('SP.', '')\n",
    "df_uk_fuel.transmission = df_uk_fuel.transmission.str.replace('P', '')\n",
    "df_uk_fuel.transmission = df_uk_fuel.transmission.str.replace('N', '')"
   ]
  },
  {
   "cell_type": "code",
   "execution_count": 26,
   "metadata": {},
   "outputs": [],
   "source": [
    "# Manual CVT 2010 Nissan Murano\n",
    "df_uk_fuel['transmission'].iloc[np.where(df_uk_fuel.transmission.str.contains('MCVT'))[0]] = 'M'\n",
    "\n",
    "# Honda Civic 2007-2009\n",
    "df_uk_fuel.transmission = df_uk_fuel.transmission.str.replace('i-SHIFT', 'M')\n",
    "\n",
    "df_uk_fuel.transmission = df_uk_fuel.transmission.str.replace('MultiDriv', 'A')\n",
    "\n",
    "df_uk_fuel.transmission = df_uk_fuel.transmission.str.replace('Multi', 'A')\n",
    "\n",
    "df_uk_fuel.transmission = df_uk_fuel.transmission.str.replace('Semi-Auto', 'A')\n",
    "\n",
    "# 2000 Honda Accord\n",
    "df_uk_fuel.transmission = df_uk_fuel.transmission.str.replace('SS$', 'M')\n",
    "df_uk_fuel.transmission = df_uk_fuel.transmission.str.replace('SS', 'M')\n",
    "df_uk_fuel.transmission = df_uk_fuel.transmission.str.replace('G', '')\n",
    "df_uk_fuel.transmission = df_uk_fuel.transmission.str.replace('DCT', 'M')\n",
    "df_uk_fuel.transmission = df_uk_fuel.transmission.str.replace('ET', 'M')\n",
    "df_uk_fuel.transmission = df_uk_fuel.transmission.str.replace('MTA', 'M')\n",
    "df_uk_fuel.transmission = df_uk_fuel.transmission.str.replace('DM6', 'M6')\n",
    "df_uk_fuel.transmission = df_uk_fuel.transmission.str.replace('D8', 'A8')\n",
    "df_uk_fuel.transmission = df_uk_fuel.transmission.str.replace('D7', 'A7')\n",
    "df_uk_fuel.transmission = df_uk_fuel.transmission.str.replace('D6', 'A6')\n",
    "df_uk_fuel.transmission = df_uk_fuel.transmission.str.replace('S6', 'M6')\n",
    "df_uk_fuel.transmission = df_uk_fuel.transmission.str.replace('AE', 'A')"
   ]
  },
  {
   "cell_type": "code",
   "execution_count": 27,
   "metadata": {},
   "outputs": [],
   "source": [
    "df_uk_fuel.transmission = df_uk_fuel.transmission.str.upper()\n",
    "# df_uk_fuel.transmission = df_uk_fuel.transmission.str.replace('6AMT', 'AMT6')\n",
    "# df_uk_fuel.transmission = df_uk_fuel.transmission.str.replace('5AMT', 'AMT5')\n",
    "df_uk_fuel.transmission.where(~df_uk_fuel.transmission.str.contains('V'), 'CVT', inplace=True)"
   ]
  },
  {
   "cell_type": "code",
   "execution_count": 28,
   "metadata": {},
   "outputs": [],
   "source": [
    "df_uk_fuel.transmission = df_uk_fuel.transmission.str.replace('6MT', 'M6')\n",
    "df_uk_fuel.transmission = df_uk_fuel.transmission.str.replace('5MT', 'M5')\n",
    "df_uk_fuel.transmission = df_uk_fuel.transmission.str.replace('6AT', 'A6')\n",
    "df_uk_fuel.transmission = df_uk_fuel.transmission.str.replace('4AT', 'A4')\n",
    "df_uk_fuel.transmission = df_uk_fuel.transmission.str.replace('5AT', 'A5')\n",
    "df_uk_fuel.transmission = df_uk_fuel.transmission.str.replace('8AT', 'A8')\n",
    "df_uk_fuel.transmission = df_uk_fuel.transmission.str.replace('4M', 'M4')\n",
    "df_uk_fuel.transmission = df_uk_fuel.transmission.str.replace('3AT', 'A3')\n",
    "df_uk_fuel.transmission = df_uk_fuel.transmission.str.replace('10AT', 'A10')\n",
    "df_uk_fuel.transmission = df_uk_fuel.transmission.str.replace('7MT', 'M7')\n",
    "# df_uk_fuel.transmission = df_uk_fuel.transmission.str.replace('7SP.SSG', 'SP.SSG7')"
   ]
  },
  {
   "cell_type": "code",
   "execution_count": 29,
   "metadata": {},
   "outputs": [],
   "source": [
    "df_uk_fuel.transmission = df_uk_fuel.transmission.str.replace('MT6', 'M6')\n",
    "df_uk_fuel.transmission = df_uk_fuel.transmission.str.replace('MT5', 'M5')\n",
    "df_uk_fuel.transmission = df_uk_fuel.transmission.str.replace('MT7', 'M7')\n",
    "df_uk_fuel.transmission = df_uk_fuel.transmission.str.replace('7M', 'M7')\n",
    "df_uk_fuel.transmission = df_uk_fuel.transmission.str.replace('AT6', 'A6')\n",
    "df_uk_fuel.transmission = df_uk_fuel.transmission.str.replace('AT4', 'A4')\n",
    "df_uk_fuel.transmission = df_uk_fuel.transmission.str.replace('AT5', 'A5')\n",
    "df_uk_fuel.transmission = df_uk_fuel.transmission.str.replace('AT3', 'A3')\n",
    "df_uk_fuel.transmission = df_uk_fuel.transmission.str.replace('AT10', 'A10')"
   ]
  },
  {
   "cell_type": "code",
   "execution_count": 30,
   "metadata": {},
   "outputs": [],
   "source": [
    "df_uk_fuel.transmission = df_uk_fuel.transmission.str.replace('AT8', 'A6')\n",
    "df_uk_fuel.transmission = df_uk_fuel.transmission.str.replace('MTA5', 'M5')\n",
    "df_uk_fuel.transmission = df_uk_fuel.transmission.str.replace('MT', 'M')\n",
    "df_uk_fuel.transmission = df_uk_fuel.transmission.str.replace('AT', 'A')\n",
    "df_uk_fuel.transmission = df_uk_fuel.transmission.str.replace('MTA6', 'M6')"
   ]
  },
  {
   "cell_type": "code",
   "execution_count": 31,
   "metadata": {},
   "outputs": [],
   "source": [
    "df_uk_fuel.transmission = df_uk_fuel.transmission.str.replace('SA6', 'A6')\n",
    "df_uk_fuel.transmission = df_uk_fuel.transmission.str.replace('MS6', 'M6')\n",
    "df_uk_fuel.transmission = df_uk_fuel.transmission.str.replace('ASM', 'M')\n",
    "df_uk_fuel.transmission = df_uk_fuel.transmission.str.replace('SM6', 'M6')\n",
    "df_uk_fuel.transmission = df_uk_fuel.transmission.str.replace('M6S6', 'M6')\n",
    "df_uk_fuel.transmission = df_uk_fuel.transmission.str.replace('SM7', 'M7')\n",
    "df_uk_fuel.transmission = df_uk_fuel.transmission.str.replace('AM6', 'M6')\n",
    "df_uk_fuel.transmission = df_uk_fuel.transmission.str.replace('AM5', 'M5')\n",
    "df_uk_fuel.transmission = df_uk_fuel.transmission.str.replace('AA5', 'A5')\n",
    "df_uk_fuel.transmission = df_uk_fuel.transmission.str.replace('M6M6', 'M6')\n",
    "df_uk_fuel.transmission = df_uk_fuel.transmission.str.replace('5AM', 'A5')\n",
    "df_uk_fuel.transmission = df_uk_fuel.transmission.str.replace('6AM', 'A6')"
   ]
  },
  {
   "cell_type": "code",
   "execution_count": 32,
   "metadata": {},
   "outputs": [],
   "source": [
    "uk_trans = [match[0] for match in df_uk_fuel.transmission.str.findall('([A-Z]+)')]\n",
    "uk_trans = [*map({'M': 'Manual', 'A':'Automatic', 'CVT':'CVT'}.get, uk_trans)]\n",
    "num_gears = [int(match[:1][0]) if len(match) == 1 else 0 for match in df_uk_fuel.transmission.str.findall('(\\d+)').values]\n",
    "df_uk_fuel['num_gears'] = num_gears\n",
    "df_uk_fuel['transmission'] = uk_trans"
   ]
  },
  {
   "cell_type": "markdown",
   "metadata": {},
   "source": [
    "Engine Size: converting from Cubic Centimeters to Liters"
   ]
  },
  {
   "cell_type": "code",
   "execution_count": 33,
   "metadata": {},
   "outputs": [],
   "source": [
    "engine_size = df_uk_fuel.engine_size.str.findall(r\"[-+]?\\d*\\.\\d+|\\d+\")\n",
    "engine_size = [float(es[0]) for es in engine_size]\n",
    "df_uk_fuel['engine_size'] = np.round(np.array(engine_size) / 1000, 1)"
   ]
  },
  {
   "cell_type": "markdown",
   "metadata": {},
   "source": [
    "Fuel Type"
   ]
  },
  {
   "cell_type": "code",
   "execution_count": 34,
   "metadata": {},
   "outputs": [],
   "source": [
    "df_us_fuel = df_us_fuel[~df_us_fuel.fuel_type.str.contains('Electric')]"
   ]
  },
  {
   "cell_type": "code",
   "execution_count": 35,
   "metadata": {},
   "outputs": [],
   "source": [
    "df_uk_fuel = df_uk_fuel[~df_uk_fuel.fuel_type.str.contains('Hybrid')]"
   ]
  },
  {
   "cell_type": "code",
   "execution_count": 36,
   "metadata": {},
   "outputs": [],
   "source": [
    "df_ca_fuel.fuel_type.replace('Ethanol (E85)', 'Flex Fuel', inplace=True)\n",
    "# df_ca_fuel.fuel_type.value_counts()"
   ]
  },
  {
   "cell_type": "code",
   "execution_count": 37,
   "metadata": {},
   "outputs": [],
   "source": [
    "df_us_fuel.fuel_type.replace('Gasoline or E85', 'Flex Fuel', inplace=True)\n",
    "df_us_fuel.fuel_type.replace('Premium or E85', 'Flex Fuel', inplace=True)\n",
    "df_us_fuel.fuel_type.replace('CNG', 'Natural Gas', inplace=True)\n",
    "df_us_fuel.fuel_type.replace('Gasoline or natural gas', 'Flex Fuel', inplace=True)\n",
    "df_us_fuel.fuel_type.replace('Gasoline or propane', 'Flex Fuel', inplace=True)\n",
    "# df_us_fuel.fuel_type.value_counts()"
   ]
  },
  {
   "cell_type": "code",
   "execution_count": 38,
   "metadata": {},
   "outputs": [],
   "source": [
    "df_uk_fuel.fuel_type.replace('Petrol', 'Regular', inplace=True)\n",
    "df_uk_fuel.fuel_type.replace('LPG', 'Natural Gas', inplace=True)\n",
    "df_uk_fuel.fuel_type.replace('Petrol/E85 (Flex Fuel)', 'Flex Fuel', inplace=True)\n",
    "df_uk_fuel.fuel_type.replace('Petrol / E85', 'Flex Fuel', inplace=True)\n",
    "df_uk_fuel.fuel_type.replace('CNG  ', 'Natural Gas', inplace=True)\n",
    "df_uk_fuel.fuel_type.replace('Petrol / E85 (Flex Fuel)', 'Flex Fuel', inplace=True)\n",
    "df_uk_fuel.fuel_type.replace('Petrol / E85 ', 'Flex Fuel', inplace=True)\n",
    "df_uk_fuel.fuel_type.replace('CNG', 'Natural Gas', inplace=True)\n",
    "df_uk_fuel.fuel_type.replace('LPG/ Petrol', 'Flex Fuel', inplace=True)\n",
    "df_uk_fuel.fuel_type.replace('Petrol ', 'Regular', inplace=True)\n",
    "df_uk_fuel.fuel_type.replace('Diesel  ', 'Diesel', inplace=True)\n",
    "df_uk_fuel.fuel_type.replace('Petrol E85 (Flex Fuel)', 'Flex Fuel', inplace=True)\n",
    "# df_uk_fuel.fuel_type.value_counts()"
   ]
  },
  {
   "cell_type": "code",
   "execution_count": 39,
   "metadata": {},
   "outputs": [],
   "source": [
    "del df_us_fuel['fuel_type_1']\n",
    "del df_us_fuel['drive']\n",
    "del df_us_fuel['cylinders']\n",
    "del df_ca_fuel['cylinders']\n",
    "del df_ca_fuel['comb(l/10km)']\n",
    "del df_ca_fuel['co2_emissions(g/km)']\n",
    "del df_us_fuel['turbocharger']\n",
    "del df_us_fuel['supercharger']"
   ]
  },
  {
   "cell_type": "markdown",
   "metadata": {},
   "source": [
    "MPG"
   ]
  },
  {
   "cell_type": "code",
   "execution_count": 40,
   "metadata": {},
   "outputs": [],
   "source": [
    "lkm_to_mpg = lambda x: 235.215/x\n",
    "df_ca_fuel['highway_mpg'] = lkm_to_mpg(df_ca_fuel['hwy(l/10km)'])\n",
    "df_ca_fuel['city_mpg'] = lkm_to_mpg(df_ca_fuel['city(l/10km)'])\n",
    "\n",
    "del df_ca_fuel['city(l/10km)']\n",
    "del df_ca_fuel['hwy(l/10km)']\n",
    "df_ca_fuel.rename(columns={'comb(mpg)': 'combined_mpg'}, inplace=True)"
   ]
  },
  {
   "cell_type": "code",
   "execution_count": 41,
   "metadata": {},
   "outputs": [],
   "source": [
    "df_us_fuel.to_csv(os.path.join(data_dir, \"USA/us_fuel_aligned.csv\"))\n",
    "df_ca_fuel.to_csv(os.path.join(data_dir, \"Canada/ca_fuel_aligned.csv\"))\n",
    "df_uk_fuel.to_csv(os.path.join(data_dir, \"UK/uk_fuel_aligned.csv\"))"
   ]
  },
  {
   "cell_type": "markdown",
   "metadata": {},
   "source": [
    "transmission_decode_dict = {\n",
    "    'A':'automatic',\n",
    "    'SS':'sequential shift',\n",
    "    'SM':'semi-auto',\n",
    "    'L':'low ratio',\n",
    "    'NE':'normal economy ratio',\n",
    "    'N':'normal ratio',\n",
    "    'Q':'4 wheel drive',\n",
    "    'T':'turbocharger',\n",
    "    'x2':'high and low gears',\n",
    "    'M':'manual',\n",
    "    'F':'front wheel drive',\n",
    "    '/s':'close ratio',\n",
    "    'SAT':'semi-auto',\n",
    "}"
   ]
  }
 ],
 "metadata": {
  "kernelspec": {
   "display_name": "Python 3",
   "language": "python",
   "name": "python3"
  },
  "language_info": {
   "codemirror_mode": {
    "name": "ipython",
    "version": 3
   },
   "file_extension": ".py",
   "mimetype": "text/x-python",
   "name": "python",
   "nbconvert_exporter": "python",
   "pygments_lexer": "ipython3",
   "version": "3.8.3"
  }
 },
 "nbformat": 4,
 "nbformat_minor": 4
}
